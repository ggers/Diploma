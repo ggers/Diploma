{
  "nbformat": 4,
  "nbformat_minor": 0,
  "metadata": {
    "colab": {
      "name": "Diploma_0.1.ipynb",
      "version": "0.3.2",
      "provenance": [],
      "collapsed_sections": []
    },
    "kernelspec": {
      "name": "python3",
      "display_name": "Python 3"
    }
  },
  "cells": [
    {
      "metadata": {
        "id": "eev7NitQdLWY",
        "colab_type": "code",
        "colab": {
          "base_uri": "https://localhost:8080/",
          "height": 34
        },
        "cellView": "both",
        "outputId": "4939ee0e-274c-4ae9-c49c-4f243acb25f5"
      },
      "cell_type": "code",
      "source": [
        "print('Hello world!')\n"
      ],
      "execution_count": 4,
      "outputs": [
        {
          "output_type": "stream",
          "text": [
            "Hello world!\n"
          ],
          "name": "stdout"
        }
      ]
    },
    {
      "metadata": {
        "id": "d-3vsBZFsbJF",
        "colab_type": "text"
      },
      "cell_type": "markdown",
      "source": [
        "Дипломная работа (черновик)"
      ]
    },
    {
      "metadata": {
        "id": "BCWL1EBbsun8",
        "colab_type": "text"
      },
      "cell_type": "markdown",
      "source": [
        "1. создание приложение, получение токена, аутентификация"
      ]
    },
    {
      "metadata": {
        "id": "ijE94FCtsb6k",
        "colab_type": "code",
        "colab": {
          "base_uri": "https://localhost:8080/",
          "height": 71
        },
        "outputId": "7ff15530-259a-4902-93fb-2b6b8968abf0"
      },
      "cell_type": "code",
      "source": [
        "from urllib.parse import urlencode\n",
        "import requests\n",
        "\n",
        "APP_ID = \"6646096\"\n",
        "AUTH_SERVER = \"https://oauth.vk.com/authorize\"\n",
        "auth_data = {\n",
        "    \"client_id\": APP_ID,\n",
        "    \"display\": \"page\",\n",
        "    \"redirect_url\": \"https://oauth.vk.com/blank.html\",\n",
        "    \"scope\": \"status,friends\",\n",
        "    \"response_type\": \"token\",\n",
        "    \"v\": 5.80\n",
        "}\n",
        "\n",
        "id1 = 13575261\n",
        "id2 = 343767\n",
        "\n",
        "\n",
        "print(\"?\".join((AUTH_SERVER, urlencode(auth_data))))\n",
        "\n",
        "TOKEN = \"4b62d22e2ae7da0328dddf3232fa7caf418080c6495806c4217106c6b54e961dfefca532923fe72fd7016\"\n",
        "\n",
        "response = requests.get(\"https://api.vk.com/method/friends.getMutual\", params=dict(access_token=TOKEN, v=5.80, target_uid=id2))\n",
        "print(response.text)"
      ],
      "execution_count": 7,
      "outputs": [
        {
          "output_type": "stream",
          "text": [
            "https://oauth.vk.com/authorize?client_id=6646096&display=page&redirect_url=https%3A%2F%2Foauth.vk.com%2Fblank.html&scope=status%2Cfriends&response_type=token&v=5.8\n",
            "{\"error\":{\"error_code\":5,\"error_msg\":\"User authorization failed: access_token was given to another ip address.\",\"request_params\":[{\"key\":\"oauth\",\"value\":\"1\"},{\"key\":\"method\",\"value\":\"friends.getMutual\"},{\"key\":\"v\",\"value\":\"5.8\"},{\"key\":\"target_uid\",\"value\":\"343767\"}]}}\n"
          ],
          "name": "stdout"
        }
      ]
    },
    {
      "metadata": {
        "id": "jRzVnKDPzl_C",
        "colab_type": "text"
      },
      "cell_type": "markdown",
      "source": [
        "2. Определеяем функцию get_VKfriends_by_id(target_user)"
      ]
    },
    {
      "metadata": {
        "id": "q6BDERXVzt2S",
        "colab_type": "code",
        "colab": {}
      },
      "cell_type": "code",
      "source": [
        ""
      ],
      "execution_count": 0,
      "outputs": []
    },
    {
      "metadata": {
        "id": "8bIXO-NAzuaC",
        "colab_type": "text"
      },
      "cell_type": "markdown",
      "source": [
        "3. Определяем функцию get_VKgroups_by_id(target_user)"
      ]
    },
    {
      "metadata": {
        "id": "GEsOPvOgzzyq",
        "colab_type": "code",
        "colab": {}
      },
      "cell_type": "code",
      "source": [
        ""
      ],
      "execution_count": 0,
      "outputs": []
    },
    {
      "metadata": {
        "id": "78_adQVAtQtk",
        "colab_type": "text"
      },
      "cell_type": "markdown",
      "source": [
        "4. Часть запрашиваем список друзей целевого пользователя, создаем множество friends_total\n"
      ]
    },
    {
      "metadata": {
        "id": "mVuz87bEv4kN",
        "colab_type": "code",
        "colab": {}
      },
      "cell_type": "code",
      "source": [
        "friends_total = get_VKfriends_by_id(target_user)"
      ],
      "execution_count": 0,
      "outputs": []
    },
    {
      "metadata": {
        "id": "HRbnsMT1wEot",
        "colab_type": "text"
      },
      "cell_type": "markdown",
      "source": [
        "5. Запрашиваем список групп, в которых состоит целевой пользователь, создаем множество groups_total"
      ]
    },
    {
      "metadata": {
        "id": "qLgCGltmwks3",
        "colab_type": "code",
        "colab": {}
      },
      "cell_type": "code",
      "source": [
        "groups_total = get_VKgroups_by_id(target_user)"
      ],
      "execution_count": 0,
      "outputs": []
    },
    {
      "metadata": {
        "id": "trk3PRTxwvZ-",
        "colab_type": "text"
      },
      "cell_type": "markdown",
      "source": [
        "6. Для друга 1 запрашиваем список групп, в которых он состоит, и с помощью пересечения множеств groups_total и friend_groups как бы \"отрезаем\" от множества groups_total новое множество групп groups_alone"
      ]
    },
    {
      "metadata": {
        "id": "H_9e5joDxo5f",
        "colab_type": "code",
        "colab": {}
      },
      "cell_type": "code",
      "source": [
        "friend_groups = get_VKgroups_by_id(friend1)\n",
        "groups_alone = groups_total.difference(friends_group) "
      ],
      "execution_count": 0,
      "outputs": []
    },
    {
      "metadata": {
        "id": "5l9QMuUtyc6U",
        "colab_type": "text"
      },
      "cell_type": "markdown",
      "source": [
        "7. Написав соответствующий цикл перебора по всем друзьям пользователя, мы исключим из множества groups_total все группыб в которых состоит хотя бы один друг пользователя"
      ]
    },
    {
      "metadata": {
        "id": "qVyXRJEvyvOT",
        "colab_type": "code",
        "colab": {
          "base_uri": "https://localhost:8080/",
          "height": 129
        },
        "outputId": "5ceed677-2b29-4abb-93ad-f8cc08a83dc2"
      },
      "cell_type": "code",
      "source": [
        "for friend in friends_total:\n",
        "  friend_groups = get_VKgroups_by_id(friend1)\n",
        "  groups_alone = groups_total.difference(friends_group)\n",
        " \n",
        "print(f\"Было {}\"(groups_total), f\"Стало {}\"(groups_alone))"
      ],
      "execution_count": 10,
      "outputs": [
        {
          "output_type": "error",
          "ename": "SyntaxError",
          "evalue": "ignored",
          "traceback": [
            "\u001b[0;36m  File \u001b[0;32m\"<ipython-input-10-d3983f4f8d9f>\"\u001b[0;36m, line \u001b[0;32m5\u001b[0m\n\u001b[0;31m    print(f\"Было {}\"(groups_total), f\"Стало {}\"(groups_alone))\u001b[0m\n\u001b[0m         ^\u001b[0m\n\u001b[0;31mSyntaxError\u001b[0m\u001b[0;31m:\u001b[0m f-string: empty expression not allowed\n"
          ]
        }
      ]
    },
    {
      "metadata": {
        "id": "z7DucGj1zcFE",
        "colab_type": "text"
      },
      "cell_type": "markdown",
      "source": [
        "8. Создать ответ в необходимом формате json"
      ]
    },
    {
      "metadata": {
        "id": "N_gyqPl6z1-y",
        "colab_type": "code",
        "colab": {}
      },
      "cell_type": "code",
      "source": [
        "for group in groups_alone:\n",
        "  result = {group: group_info}\n",
        " \n",
        "print(result)"
      ],
      "execution_count": 0,
      "outputs": []
    }
  ]
}